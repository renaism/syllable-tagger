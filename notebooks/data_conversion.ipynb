{
 "nbformat": 4,
 "nbformat_minor": 2,
 "metadata": {
  "language_info": {
   "name": "python",
   "codemirror_mode": {
    "name": "ipython",
    "version": 3
   },
   "version": "3.7.4-final"
  },
  "orig_nbformat": 2,
  "file_extension": ".py",
  "mimetype": "text/x-python",
  "name": "python",
  "npconvert_exporter": "python",
  "pygments_lexer": "ipython3",
  "version": 3,
  "kernelspec": {
   "name": "python3",
   "display_name": "Python 3"
  }
 },
 "cells": [
  {
   "cell_type": "code",
   "execution_count": null,
   "metadata": {},
   "outputs": [],
   "source": [
    "import pandas as pd\n",
    "import numpy as np"
   ]
  },
  {
   "cell_type": "code",
   "execution_count": null,
   "metadata": {},
   "outputs": [],
   "source": [
    "fname = '../data/trainset/named-entity/Data Latih Named-Entity 20k.csv'"
   ]
  },
  {
   "cell_type": "markdown",
   "metadata": {},
   "source": [
    "## Convert 1 column data to 2 columns"
   ],
   "execution_count": null,
   "outputs": []
  },
  {
   "cell_type": "code",
   "execution_count": null,
   "metadata": {},
   "outputs": [],
   "source": [
    "data = pd.read_csv(\n",
    "    fname,\n",
    "    header=None,\n",
    "    names=['syllables'],\n",
    "    na_filter=False\n",
    ")\n",
    "data.head(10)"
   ]
  },
  {
   "cell_type": "code",
   "execution_count": null,
   "metadata": {},
   "outputs": [],
   "source": [
    "new_data = []\n",
    "\n",
    "for syl_text in data['syllables']:\n",
    "    syl_text = syl_text.replace(' ', '').replace(\"'\", '').replace('-.', '-')\n",
    "    word = syl_text.replace('.','')\n",
    "    new_data.append((word, syl_text))\n",
    "\n",
    "df = pd.DataFrame(new_data, columns=['word', 'syllables'])\n",
    "df.head(10)"
   ]
  },
  {
   "cell_type": "code",
   "execution_count": null,
   "metadata": {},
   "outputs": [],
   "source": [
    "df.to_csv('../data/trainset/named-entity/train_mne_20k.txt', sep='\\t', index=False, header=False)"
   ]
  },
  {
   "cell_type": "markdown",
   "metadata": {},
   "source": [
    "## Split to 5 folds"
   ],
   "execution_count": null,
   "outputs": []
  },
  {
   "cell_type": "code",
   "execution_count": null,
   "metadata": {},
   "outputs": [],
   "source": [
    "data_train_full = pd.read_csv(\n",
    "    '../data/trainset/named-entity/train_10k.txt', \n",
    "    header=None,\n",
    "    sep='\\t',\n",
    "    names=['word', 'syllables'],\n",
    "    na_filter=False\n",
    ")\n",
    "data_train_full.head(10)"
   ]
  },
  {
   "cell_type": "code",
   "execution_count": null,
   "metadata": {},
   "outputs": [],
   "source": [
    "df_split = np.array_split(data_train_full.sample(frac=1), 5)\n",
    "\n",
    "for i in range(len(df_split)):\n",
    "    df_split[i].to_csv('../data/testset/named-entity/test_ne_fold_{}.txt'.format(i+1), sep='\\t', header=False, index=False)\n",
    "    df_train = pd.DataFrame(columns=['word', 'syllables'])\n",
    "\n",
    "    for j in range(len(df_split)):\n",
    "        if j == i:\n",
    "            continue\n",
    "        \n",
    "        df_train = df_train.append(df_split[j], ignore_index=True)\n",
    "    \n",
    "    df_train.to_csv('../data/trainset/named-entity/train_ne_fold_{}.txt'.format(i+1), sep='\\t', header=False, index=False)"
   ]
  }
 ]
}