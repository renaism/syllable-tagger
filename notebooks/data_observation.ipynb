{
 "nbformat": 4,
 "nbformat_minor": 2,
 "metadata": {
  "language_info": {
   "name": "python",
   "codemirror_mode": {
    "name": "ipython",
    "version": 3
   },
   "version": "3.7.4-final"
  },
  "orig_nbformat": 2,
  "file_extension": ".py",
  "mimetype": "text/x-python",
  "name": "python",
  "npconvert_exporter": "python",
  "pygments_lexer": "ipython3",
  "version": 3,
  "kernelspec": {
   "name": "python3",
   "display_name": "Python 3"
  }
 },
 "cells": [
  {
   "cell_type": "code",
   "execution_count": null,
   "metadata": {},
   "outputs": [],
   "source": [
    "import pandas as pd"
   ]
  },
  {
   "cell_type": "code",
   "execution_count": null,
   "metadata": {},
   "outputs": [],
   "source": [
    "train_1_fname = '../data/trainset/named-entity/train_ne_fold_1.txt'\n",
    "test_1_fname  = '../data/testset/named-entity/test_ne_fold_1.txt'"
   ]
  },
  {
   "cell_type": "markdown",
   "metadata": {},
   "source": [
    "## Load data"
   ],
   "execution_count": null,
   "outputs": []
  },
  {
   "cell_type": "code",
   "execution_count": null,
   "metadata": {},
   "outputs": [],
   "source": [
    "column_names = ['word', 'syllables']\n",
    "train_1 = pd.read_csv(train_1_fname, sep='\\t', header=None, names=column_names, na_filter=False)\n",
    "test_1 = pd.read_csv(test_1_fname, sep='\\t', header=None, names=column_names, na_filter=False)\n",
    "dataset = train_1.append(test_1, ignore_index=True)"
   ]
  },
  {
   "cell_type": "markdown",
   "metadata": {},
   "source": [
    "## Average and max word length"
   ],
   "execution_count": null,
   "outputs": []
  },
  {
   "cell_type": "code",
   "execution_count": null,
   "metadata": {},
   "outputs": [],
   "source": [
    "sum_word_length = 0\n",
    "max_word_length = 0\n",
    "for w in dataset['word']:\n",
    "    word_length = len(w.replace('-',''))\n",
    "    sum_word_length += word_length\n",
    "    if word_length > max_word_length:\n",
    "        max_word_length = word_length\n",
    "\n",
    "avg_word_length = sum_word_length / dataset.shape[0]\n",
    "print('Average word length: ', avg_word_length)\n",
    "print('Max word length: ', max_word_length)"
   ]
  },
  {
   "cell_type": "markdown",
   "metadata": {},
   "source": [
    "## Average and max syllable length"
   ],
   "execution_count": null,
   "outputs": []
  },
  {
   "cell_type": "code",
   "execution_count": null,
   "metadata": {},
   "outputs": [],
   "source": [
    "# Get syllables from data and add to unique set\n",
    "syllables_unique = set()\n",
    "\n",
    "for s in dataset['syllables']:\n",
    "    syllables = s.replace('-','.').rstrip('.').split('.')\n",
    "    for syllable in syllables:\n",
    "        syllables_unique.add(syllable)\n",
    "\n",
    "# Get avg and max syllable length from unique set\n",
    "sum_syl_length = 0\n",
    "max_syl_length = 0\n",
    "num_syl = 0\n",
    "length_counts = [0 for i in range(max_word_length)]\n",
    "\n",
    "for syllable in syllables_unique:\n",
    "    syl_length = len(syllable)\n",
    "    sum_syl_length += syl_length\n",
    "    if syl_length > max_syl_length:\n",
    "        max_syl_length = syl_length\n",
    "    length_counts[syl_length] += 1\n",
    "\n",
    "# Print number of syllables for each length\n",
    "print('Number of unique syllables: ', len(syllables_unique))\n",
    "for i in range(1, max_syl_length+1):\n",
    "    print(i, '\\t', length_counts[i])\n",
    "\n",
    "# Print avg and max syllable length\n",
    "avg_syl_length = sum_syl_length / len(syllables_unique)\n",
    "print('Average syllable length: ', avg_syl_length)\n",
    "print('Max syllable length: ', max_syl_length)"
   ]
  }
 ]
}