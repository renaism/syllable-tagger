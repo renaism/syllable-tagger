{
 "nbformat": 4,
 "nbformat_minor": 2,
 "metadata": {
  "language_info": {
   "name": "python",
   "codemirror_mode": {
    "name": "ipython",
    "version": 3
   },
   "version": "3.7.4-final"
  },
  "orig_nbformat": 2,
  "file_extension": ".py",
  "mimetype": "text/x-python",
  "name": "python",
  "npconvert_exporter": "python",
  "pygments_lexer": "ipython3",
  "version": 3,
  "kernelspec": {
   "name": "python3",
   "display_name": "Python 3"
  }
 },
 "cells": [
  {
   "cell_type": "code",
   "execution_count": null,
   "metadata": {},
   "outputs": [],
   "source": [
    "import sys\n",
    "sys.path.append('..')"
   ]
  },
  {
   "cell_type": "code",
   "execution_count": null,
   "metadata": {},
   "outputs": [],
   "source": [
    "import importlib\n",
    "import pandas as pd\n",
    "import src.utility as util\n",
    "import src.testing.syllabification as syllabification"
   ]
  },
  {
   "cell_type": "code",
   "execution_count": null,
   "metadata": {},
   "outputs": [],
   "source": [
    "res1 = syllabification.load_result('gkn_B=3_n=3_fold_2.txt', folder='../data/results/original/')\n",
    "res2 = syllabification.load_result('gkn_B=3_n=5_fold_2.txt', folder='../data/results/original/')"
   ]
  },
  {
   "cell_type": "code",
   "execution_count": null,
   "metadata": {},
   "outputs": [],
   "source": [
    "with pd.option_context('display.max_rows', None, 'display.max_columns', None):\n",
    "    display(\n",
    "        syllabification.compare_results(res1, res2, True, False)\n",
    "    )"
   ]
  },
  {
   "cell_type": "code",
   "execution_count": null,
   "metadata": {},
   "outputs": [],
   "source": [
    "res_fname_prefix = 'gkn_B=4_n=5'\n",
    "\n",
    "wrong_result = []\n",
    "\n",
    "for fold in range(1, 6):\n",
    "    res = syllabification.load_result('{}_fold_{}.txt'.format(res_fname_prefix, fold), folder='../data/results/original/')\n",
    "\n",
    "    for _, row in res['data'].iterrows():\n",
    "        if row['mismatch_count'] > 0:\n",
    "            wrong_result.append(row)\n",
    "\n",
    "wrong_result_df = pd.DataFrame(wrong_result).reset_index(drop=True)"
   ]
  },
  {
   "cell_type": "code",
   "execution_count": null,
   "metadata": {},
   "outputs": [],
   "source": [
    "wrong_result_df"
   ]
  },
  {
   "cell_type": "code",
   "execution_count": null,
   "metadata": {},
   "outputs": [],
   "source": [
    "wrong_result_df.to_csv('../data/results/original/{}_incorrect.txt'.format(res_fname_prefix), sep='\\t', index=False, header=False)"
   ]
  },
  {
   "cell_type": "code",
   "execution_count": null,
   "metadata": {},
   "outputs": [],
   "source": [
    "dataset_50k = pd.read_csv(\n",
    "    '../data/trainset/Dataset Formal Words 50k.txt',\n",
    "    sep='\\t',\n",
    "    header=None\n",
    ")\n",
    "\n",
    "dataset_50k.head(10)"
   ]
  },
  {
   "cell_type": "code",
   "execution_count": null,
   "metadata": {},
   "outputs": [],
   "source": [
    "sample_1k = dataset_50k.sample(frac=0.02, random_state=2020).reset_index(drop=True)\n",
    "sample_1k"
   ]
  },
  {
   "cell_type": "code",
   "execution_count": null,
   "metadata": {},
   "outputs": [],
   "source": [
    "sample_1k.to_csv(\n",
    "    '../data/trainset/Dataset Formal Words Sample 1k.txt',\n",
    "    sep='\\t', \n",
    "    index=False, \n",
    "    header=False\n",
    ")"
   ]
  }
 ]
}