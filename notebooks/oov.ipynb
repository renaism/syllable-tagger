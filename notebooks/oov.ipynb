{
 "nbformat": 4,
 "nbformat_minor": 2,
 "metadata": {
  "language_info": {
   "name": "python",
   "codemirror_mode": {
    "name": "ipython",
    "version": 3
   },
   "version": "3.7.4-final"
  },
  "orig_nbformat": 2,
  "file_extension": ".py",
  "mimetype": "text/x-python",
  "name": "python",
  "npconvert_exporter": "python",
  "pygments_lexer": "ipython3",
  "version": 3,
  "kernelspec": {
   "name": "python3",
   "display_name": "Python 3"
  }
 },
 "cells": [
  {
   "cell_type": "code",
   "execution_count": null,
   "metadata": {},
   "outputs": [],
   "source": [
    "import sys\n",
    "sys.path.append('..')"
   ]
  },
  {
   "cell_type": "code",
   "execution_count": null,
   "metadata": {},
   "outputs": [],
   "source": [
    "import pandas as pd\n",
    "import numpy as np\n",
    "import src.ngram as ngram"
   ]
  },
  {
   "cell_type": "code",
   "execution_count": null,
   "metadata": {},
   "outputs": [],
   "source": [
    "n_gram_train = ngram.load('../models/ngrams/5_gram_fold_1.json')\n",
    "n_gram_test  = ngram.load('../models/ngrams/testset/5_gram_test_fold_1.json')"
   ]
  },
  {
   "cell_type": "code",
   "execution_count": null,
   "metadata": {
    "tags": [
     "outputPrepend",
     "outputPrepend",
     "outputPrepend"
    ]
   },
   "outputs": [],
   "source": [
    "n = 5\n",
    "\n",
    "oov_n = 0\n",
    "\n",
    "for gram in n_gram_test.get_fdist(n):\n",
    "    if gram not in n_gram_train.get_fdist(n):\n",
    "        oov_n += 1\n",
    "\n",
    "total_gram = n_gram_train.get_fdist(n).B()\n",
    "\n",
    "print('\\nTotal trainset gram:', total_gram)\n",
    "print('OOV n:', oov_n)\n",
    "print('OOV ratio:', oov_n / total_gram * 100, '%')"
   ]
  }
 ]
}