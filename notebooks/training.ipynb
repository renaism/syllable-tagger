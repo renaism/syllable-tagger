{
 "nbformat": 4,
 "nbformat_minor": 2,
 "metadata": {
  "language_info": {
   "name": "python",
   "codemirror_mode": {
    "name": "ipython",
    "version": 3
   },
   "version": "3.7.4-final"
  },
  "orig_nbformat": 2,
  "file_extension": ".py",
  "mimetype": "text/x-python",
  "name": "python",
  "npconvert_exporter": "python",
  "pygments_lexer": "ipython3",
  "version": 3,
  "kernelspec": {
   "name": "python3",
   "display_name": "Python 3"
  }
 },
 "cells": [
  {
   "cell_type": "code",
   "execution_count": null,
   "metadata": {},
   "outputs": [],
   "source": [
    "import sys\n",
    "sys.path.append('..')"
   ]
  },
  {
   "cell_type": "code",
   "execution_count": null,
   "metadata": {},
   "outputs": [],
   "source": [
    "import pandas as pd\n",
    "import time\n",
    "import src.ngram as ngram\n",
    "from src.training.preprocess import tokenize, pad_tokens"
   ]
  },
  {
   "cell_type": "code",
   "execution_count": null,
   "metadata": {},
   "outputs": [],
   "source": [
    "data_train_folder = '../data/trainset/named-entity/'\n",
    "data_train_fname_prefix = 'train_mne_20k'\n",
    "\n",
    "output_folder = '../models/ngrams/named-entity/'\n",
    "output_fname_suffix = '_mne_20k'"
   ]
  },
  {
   "cell_type": "code",
   "execution_count": null,
   "metadata": {},
   "outputs": [],
   "source": [
    "data_train_aug_folder = '../data/trainset/augmented/named-entity/'\n",
    "data_train_aug_fname_prefix = 'aug_train_ne'\n",
    "\n",
    "aug_output_folder = '../models/ngrams/named-entity/'\n",
    "aug_output_fname_suffix = '_ne_aug' "
   ]
  },
  {
   "cell_type": "code",
   "execution_count": null,
   "metadata": {},
   "outputs": [],
   "source": [
    "n_max = 5\n",
    "k_min = 1\n",
    "k_max = 1\n",
    "train_set_type = 'original' # Set to original / augmented\n",
    "\n",
    "start_t = time.time()\n",
    "\n",
    "print('Max n: ', n_max)\n",
    "print('Train set: ', train_set_type)\n",
    "\n",
    "if train_set_type == 'original':\n",
    "    ffolder = data_train_folder\n",
    "    fname_prefix = data_train_fname_prefix\n",
    "    output_fname_prefix = '{}{}_gram{}'.format(output_folder, n_max, output_fname_suffix)\n",
    "elif train_set_type == 'augmented':\n",
    "    ffolder = data_train_aug_folder\n",
    "    fname_prefix = data_train_aug_fname_prefix\n",
    "    output_fname_prefix = '{}{}_gram{}'.format(aug_output_folder, n_max, aug_output_fname_suffix)\n",
    "\n",
    "for fold in range(k_min, k_max+1):\n",
    "    print('\\nFold {}/{}'.format(fold, k_max))\n",
    "    \n",
    "    # Load train set\n",
    "    fname = '{}{}_fold_{}.txt'.format(ffolder, fname_prefix, fold)\n",
    "    print('Train set: ', fname)\n",
    "    data_train = pd.read_csv(\n",
    "        fname, \n",
    "        sep='\\t', \n",
    "        header=None, \n",
    "        names=['word', 'syllables'], \n",
    "        na_filter=False\n",
    "    )\n",
    "    print('Number of words: ', len(data_train))\n",
    "\n",
    "    # Build the n-gram\n",
    "    print('Building n-gram')\n",
    "    tokens = pad_tokens(tokenize(data_train), n=n_max, start_pad=True, end_marker=True)\n",
    "    ngram_fold = ngram.NGram(tokens, n=n_max, build_cont_fdist=True, build_follow_fdist=True, verbose=True)\n",
    "\n",
    "    # Save the n-gram to a file\n",
    "    fname = output_fname_prefix + '_fold_{}.json'.format(fold)\n",
    "    ngram.save(ngram_fold, fname)\n",
    "    print('n-gram saved to \"{}\"'.format(fname))\n",
    "\n",
    "print('\\nAll n-grams generated in {:.2f} s'.format(time.time() - start_t))"
   ]
  }
 ]
}