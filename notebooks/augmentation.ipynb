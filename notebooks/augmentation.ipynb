{
 "nbformat": 4,
 "nbformat_minor": 2,
 "metadata": {
  "language_info": {
   "name": "python",
   "codemirror_mode": {
    "name": "ipython",
    "version": 3
   },
   "version": "3.7.4-final"
  },
  "orig_nbformat": 2,
  "file_extension": ".py",
  "mimetype": "text/x-python",
  "name": "python",
  "npconvert_exporter": "python",
  "pygments_lexer": "ipython3",
  "version": 3,
  "kernelspec": {
   "name": "python3",
   "display_name": "Python 3"
  }
 },
 "cells": [
  {
   "cell_type": "code",
   "execution_count": null,
   "metadata": {},
   "outputs": [],
   "source": [
    "import sys\n",
    "sys.path.append('..')"
   ]
  },
  {
   "cell_type": "code",
   "execution_count": null,
   "metadata": {},
   "outputs": [],
   "source": [
    "import pandas as pd\n",
    "from src.training.augmentation import flip_onsets, swap_consonants"
   ]
  },
  {
   "cell_type": "markdown",
   "execution_count": null,
   "metadata": {},
   "outputs": [],
   "source": [
    "## Load the train set"
   ]
  },
  {
   "cell_type": "code",
   "execution_count": null,
   "metadata": {},
   "outputs": [],
   "source": [
    "data_train_folds = {}\n",
    "\n",
    "for fold in data_train_folds_fnames:\n",
    "    fname = '../data/trainset/train_fold_{}.txt'.format(fold)\n",
    "    data_train_folds[fold] = pd.read_csv(\n",
    "        fname,\n",
    "        sep='\\t',\n",
    "        header=None,\n",
    "        names=['word', 'syllables'],\n",
    "        na_filter=False\n",
    "    )\n",
    "    print('Fold {} (\"{}\") | Number of words: {}'.format(fold, fname, len(data_train_folds[fold])))\n",
    "\n",
    "data_train_folds[fold].sample(n=5, random_state=0)"
   ]
  },
  {
   "cell_type": "markdown",
   "execution_count": null,
   "metadata": {},
   "outputs": [],
   "source": [
    "## Flip onsets"
   ]
  },
  {
   "cell_type": "code",
   "execution_count": null,
   "metadata": {},
   "outputs": [],
   "source": [
    "# Flip onsets from the original train set\n",
    "flipped_folds = {}\n",
    "\n",
    "for fold, data_train in data_train_folds.items():\n",
    "    flipped_folds[fold] = flip_onsets(data_train)\n",
    "    print('Fold {} | Number of words: {}'.format(fold, len(flipped_folds[fold])))\n",
    "\n",
    "flipped_folds[fold].sample(n=5, random_state=0)"
   ]
  },
  {
   "cell_type": "markdown",
   "execution_count": null,
   "metadata": {},
   "outputs": [],
   "source": [
    "## Swap consonants"
   ]
  },
  {
   "cell_type": "code",
   "execution_count": null,
   "metadata": {},
   "outputs": [],
   "source": [
    "# Swap consonants from the original train set\n",
    "swapped_folds = {}\n",
    "\n",
    "for fold, data_train in data_train_folds.items():\n",
    "    swapped_folds[fold] = swap_consonants(data_train)\n",
    "    print('Fold {} | Number of words: {}'.format(fold, len(swapped_folds[fold])))\n",
    "\n",
    "swapped_folds[fold].sample(n=5, random_state=0)"
   ]
  },
  {
   "cell_type": "code",
   "execution_count": null,
   "metadata": {},
   "outputs": [],
   "source": [
    "# Swap consonants from the onset flipped set\n",
    "flipped_swapped_folds = {}\n",
    "\n",
    "for fold, flipped in flipped_folds.items():\n",
    "    flipped_swapped_folds[fold] = swap_consonants(flipped)\n",
    "    print('Fold {} | Number of words: {}'.format(fold, len(flipped_swapped_folds[fold])))\n",
    "\n",
    "flipped_swapped_folds[fold].sample(n=5, random_state=0)"
   ]
  },
  {
   "cell_type": "markdown",
   "execution_count": null,
   "metadata": {},
   "outputs": [],
   "source": [
    "## Combine and save to file"
   ]
  },
  {
   "cell_type": "code",
   "execution_count": null,
   "metadata": {},
   "outputs": [],
   "source": [
    "for fold, data_train_fname in data_train_folds_fnames.items():\n",
    "    augmented_data = pd.concat(\n",
    "        [flipped_folds[fold], swapped_folds[fold], flipped_swapped_folds[fold]], \n",
    "        ignore_index=True\n",
    "    )\n",
    "    fname = '../data/trainset/augmented/aug_train_fold_{}.txt'.format(fold)\n",
    "    augmented_data.to_csv(fname, sep='\\t', index=False, header=False)\n",
    "    print('Fold {} | Number of words: {}, saved to \"{}\"'.format(fold, len(augmented_data), fname))\n"
   ]
  }
 ]
}