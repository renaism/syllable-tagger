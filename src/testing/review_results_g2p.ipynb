{
 "nbformat": 4,
 "nbformat_minor": 2,
 "metadata": {
  "language_info": {
   "name": "python",
   "codemirror_mode": {
    "name": "ipython",
    "version": 3
   },
   "version": "3.7.4-final"
  },
  "orig_nbformat": 2,
  "file_extension": ".py",
  "mimetype": "text/x-python",
  "name": "python",
  "npconvert_exporter": "python",
  "pygments_lexer": "ipython3",
  "version": 3,
  "kernelspec": {
   "name": "python3",
   "display_name": "Python 3"
  }
 },
 "cells": [
  {
   "cell_type": "code",
   "execution_count": 1,
   "metadata": {},
   "outputs": [],
   "source": [
    "import sys\n",
    "sys.path.append('../')"
   ]
  },
  {
   "cell_type": "code",
   "execution_count": 2,
   "metadata": {},
   "outputs": [],
   "source": [
    "import pandas as pd\n",
    "import numpy as np\n",
    "import importlib\n",
    "\n",
    "import training.preprocess as preprocess\n",
    "import testing.tagger as tagger\n",
    "import testing.syllabification as syllabification\n",
    "import config\n",
    "import testing.stemmer as stemmer\n",
    "\n",
    "from pprint import pprint"
   ]
  },
  {
   "cell_type": "markdown",
   "metadata": {},
   "source": [
    "## Import result data"
   ],
   "execution_count": null,
   "outputs": []
  },
  {
   "cell_type": "code",
   "execution_count": 44,
   "metadata": {},
   "outputs": [
    {
     "output_type": "execute_result",
     "data": {
      "text/plain": "        word  syllables prediction  mmc\n0          a          a          a    0\n1  a.ba-a.ba  a.ba-a.ba  a.ba-a.ba    0\n2      a.bah      a.bah      a.bah    0\n3    a.ba.ka    a.ba.ka    a.ba.ka    0\n4  a.ba.ngan  a.ba.)*an  a.ba.)*an    0",
      "text/html": "<div>\n<style scoped>\n    .dataframe tbody tr th:only-of-type {\n        vertical-align: middle;\n    }\n\n    .dataframe tbody tr th {\n        vertical-align: top;\n    }\n\n    .dataframe thead th {\n        text-align: right;\n    }\n</style>\n<table border=\"1\" class=\"dataframe\">\n  <thead>\n    <tr style=\"text-align: right;\">\n      <th></th>\n      <th>word</th>\n      <th>syllables</th>\n      <th>prediction</th>\n      <th>mmc</th>\n    </tr>\n  </thead>\n  <tbody>\n    <tr>\n      <td>0</td>\n      <td>a</td>\n      <td>a</td>\n      <td>a</td>\n      <td>0</td>\n    </tr>\n    <tr>\n      <td>1</td>\n      <td>a.ba-a.ba</td>\n      <td>a.ba-a.ba</td>\n      <td>a.ba-a.ba</td>\n      <td>0</td>\n    </tr>\n    <tr>\n      <td>2</td>\n      <td>a.bah</td>\n      <td>a.bah</td>\n      <td>a.bah</td>\n      <td>0</td>\n    </tr>\n    <tr>\n      <td>3</td>\n      <td>a.ba.ka</td>\n      <td>a.ba.ka</td>\n      <td>a.ba.ka</td>\n      <td>0</td>\n    </tr>\n    <tr>\n      <td>4</td>\n      <td>a.ba.ngan</td>\n      <td>a.ba.)*an</td>\n      <td>a.ba.)*an</td>\n      <td>0</td>\n    </tr>\n  </tbody>\n</table>\n</div>"
     },
     "metadata": {},
     "execution_count": 44
    }
   ],
   "source": [
    "fpath = \"../../data/g2p/var/stem+rule/best/se_stem_gkn_n=7_B=18_fold_5.txt\"\n",
    "\n",
    "res_data = pd.read_csv(\n",
    "    fpath,\n",
    "    sep='\\t',\n",
    "    header=None,\n",
    "    names=['word', 'syllables', 'prediction', 'mmc'],\n",
    "    na_filter=False\n",
    ")\n",
    "res_data.head(5)"
   ]
  },
  {
   "cell_type": "markdown",
   "metadata": {},
   "source": [
    "## Wrong phoneme frequencies"
   ],
   "execution_count": null,
   "outputs": []
  },
  {
   "cell_type": "code",
   "execution_count": 45,
   "metadata": {},
   "outputs": [
    {
     "output_type": "execute_result",
     "data": {
      "text/plain": "   real_phoneme pred_phoneme  frequency\n0             #            e        293\n1             e            #        260\n2             5            o          7\n3             1            a          7\n4             *            i          6\n5             4            i          5\n6             $            1          4\n7             *            h          3\n8             2            e          3\n9             o            5          2\n10            6            u          2\n11            e            3          2\n12            +            n          2\n13            i            4          2\n14            3            e          1\n15            %            e          1\n16            ^            5          1",
      "text/html": "<div>\n<style scoped>\n    .dataframe tbody tr th:only-of-type {\n        vertical-align: middle;\n    }\n\n    .dataframe tbody tr th {\n        vertical-align: top;\n    }\n\n    .dataframe thead th {\n        text-align: right;\n    }\n</style>\n<table border=\"1\" class=\"dataframe\">\n  <thead>\n    <tr style=\"text-align: right;\">\n      <th></th>\n      <th>real_phoneme</th>\n      <th>pred_phoneme</th>\n      <th>frequency</th>\n    </tr>\n  </thead>\n  <tbody>\n    <tr>\n      <td>0</td>\n      <td>#</td>\n      <td>e</td>\n      <td>293</td>\n    </tr>\n    <tr>\n      <td>1</td>\n      <td>e</td>\n      <td>#</td>\n      <td>260</td>\n    </tr>\n    <tr>\n      <td>2</td>\n      <td>5</td>\n      <td>o</td>\n      <td>7</td>\n    </tr>\n    <tr>\n      <td>3</td>\n      <td>1</td>\n      <td>a</td>\n      <td>7</td>\n    </tr>\n    <tr>\n      <td>4</td>\n      <td>*</td>\n      <td>i</td>\n      <td>6</td>\n    </tr>\n    <tr>\n      <td>5</td>\n      <td>4</td>\n      <td>i</td>\n      <td>5</td>\n    </tr>\n    <tr>\n      <td>6</td>\n      <td>$</td>\n      <td>1</td>\n      <td>4</td>\n    </tr>\n    <tr>\n      <td>7</td>\n      <td>*</td>\n      <td>h</td>\n      <td>3</td>\n    </tr>\n    <tr>\n      <td>8</td>\n      <td>2</td>\n      <td>e</td>\n      <td>3</td>\n    </tr>\n    <tr>\n      <td>9</td>\n      <td>o</td>\n      <td>5</td>\n      <td>2</td>\n    </tr>\n    <tr>\n      <td>10</td>\n      <td>6</td>\n      <td>u</td>\n      <td>2</td>\n    </tr>\n    <tr>\n      <td>11</td>\n      <td>e</td>\n      <td>3</td>\n      <td>2</td>\n    </tr>\n    <tr>\n      <td>12</td>\n      <td>+</td>\n      <td>n</td>\n      <td>2</td>\n    </tr>\n    <tr>\n      <td>13</td>\n      <td>i</td>\n      <td>4</td>\n      <td>2</td>\n    </tr>\n    <tr>\n      <td>14</td>\n      <td>3</td>\n      <td>e</td>\n      <td>1</td>\n    </tr>\n    <tr>\n      <td>15</td>\n      <td>%</td>\n      <td>e</td>\n      <td>1</td>\n    </tr>\n    <tr>\n      <td>16</td>\n      <td>^</td>\n      <td>5</td>\n      <td>1</td>\n    </tr>\n  </tbody>\n</table>\n</div>"
     },
     "metadata": {},
     "execution_count": 45
    }
   ],
   "source": [
    "wrong_phonemes = []\n",
    "wrong_phonemes_dict = {}\n",
    "\n",
    "for row in res_data.itertuples():\n",
    "    if row.mmc == 0:\n",
    "        wrong_phonemes.append(\"-\")\n",
    "    else:\n",
    "        wp_string = \"\"\n",
    "        c = 0\n",
    "        for i in range(len(row.syllables)):\n",
    "            if row.syllables[i] != row.prediction[i]:\n",
    "                wp = f\"{row.syllables[i]}/{row.prediction[i]}\"\n",
    "                wp_string += wp\n",
    "\n",
    "                if wp not in wrong_phonemes_dict:\n",
    "                    wrong_phonemes_dict[wp] = 0\n",
    "                wrong_phonemes_dict[wp] += 1\n",
    "\n",
    "                c += 1\n",
    "\n",
    "                if c < row.mmc:\n",
    "                    wp += \" \"\n",
    "\n",
    "        wrong_phonemes.append(wp_string)\n",
    "\n",
    "res_data_new = res_data.copy()\n",
    "res_data_new[\"wrong_phonemes\"] = wrong_phonemes\n",
    "\n",
    "freq_data_list = []\n",
    "\n",
    "for phonemes_str, freq in wrong_phonemes_dict.items():\n",
    "    phonemes = phonemes_str.split(\"/\")\n",
    "    freq_data_list.append((phonemes[0], phonemes[1], freq))\n",
    "\n",
    "freq_data = pd.DataFrame(freq_data_list, columns=[\"real_phoneme\", \"pred_phoneme\", \"frequency\"]).sort_values(\"frequency\", ascending=False).reset_index(drop=True)\n",
    "\n",
    "freq_data"
   ]
  },
  {
   "cell_type": "code",
   "execution_count": 46,
   "metadata": {},
   "outputs": [],
   "source": [
    "fpath = \"../../data/g2p/var/stem+rule/best/wrong_freqs_fold_5.txt\"\n",
    "\n",
    "freq_data.to_csv(\n",
    "    fpath,\n",
    "    sep='\\t',\n",
    "    index=False,\n",
    "    header=False\n",
    ")"
   ]
  },
  {
   "cell_type": "markdown",
   "metadata": {},
   "source": [
    "## Error source frequencies"
   ],
   "execution_count": null,
   "outputs": []
  },
  {
   "cell_type": "code",
   "execution_count": 37,
   "metadata": {},
   "outputs": [
    {
     "output_type": "stream",
     "name": "stdout",
     "text": "{'affix': 7, 'both': 0, 'root': 535}\nTotal word error: 542\n"
    }
   ],
   "source": [
    "wrong_types = []\n",
    "wrong_types_dict = {\"affix\": 0, \"root\": 0, \"both\": 0}\n",
    "\n",
    "st = stemmer.Stemmer()\n",
    "\n",
    "for row in res_data.itertuples():\n",
    "    if row.mmc == 0:\n",
    "        wrong_types.append(\"-\")\n",
    "    else:\n",
    "        prefix, root, d_suffix, i_suffix = st.getRoot(row.word)\n",
    "\n",
    "        if prefix == '' and d_suffix == '' and i_suffix == '':\n",
    "            wrong_types.append(\"root\")\n",
    "            wrong_types_dict[\"root\"] += 1\n",
    "            continue\n",
    "        \n",
    "        affix = False\n",
    "        root = False\n",
    "\n",
    "        for i in range(len(row.syllables)):\n",
    "            if row.syllables[i] != row.prediction[i]:\n",
    "                if i >= len(prefix) and i < (len(row.word) - len(d_suffix) - len(i_suffix)):\n",
    "                    root = True\n",
    "                else:\n",
    "                    affix = True\n",
    "            \n",
    "        if affix and root:\n",
    "            wrong_types.append(\"both\")\n",
    "            wrong_types_dict[\"both\"] += 1\n",
    "        elif affix:\n",
    "            wrong_types.append(\"affix\")\n",
    "            wrong_types_dict[\"affix\"] += 1\n",
    "        else:\n",
    "            wrong_types.append(\"root\")\n",
    "            wrong_types_dict[\"root\"] += 1\n",
    "\n",
    "res_data_new = res_data.copy()\n",
    "res_data_new[\"wrong_types\"] = wrong_types\n",
    "\n",
    "pprint(wrong_types_dict)\n",
    "print(f\"Total word error: {sum(wrong_types_dict[x] for x in wrong_types_dict)}\")"
   ]
  },
  {
   "cell_type": "markdown",
   "metadata": {},
   "source": [
    "## Save to csv"
   ],
   "execution_count": null,
   "outputs": []
  },
  {
   "cell_type": "code",
   "execution_count": null,
   "metadata": {},
   "outputs": [],
   "source": [
    "fpath = \"../../data/g2p/var/wrong_types_vanilla.txt\"\n",
    "\n",
    "res_data_new.to_csv(\n",
    "    fpath,\n",
    "    sep='\\t', \n",
    ")"
   ]
  }
 ]
}